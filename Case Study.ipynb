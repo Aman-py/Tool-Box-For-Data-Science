{
 "cells": [
  {
   "cell_type": "markdown",
   "metadata": {},
   "source": [
    "<h1>Writing a function to help you</h1>\n",
    "<p>Suppose you needed to repeat the same process done in the previous exercise to many, many rows of data. Rewriting your code again and again could become very tedious, repetitive, and unmaintainable.\n",
    "\n",
    "In this exercise, you will create a function to house the code you wrote earlier to make things easier and much more concise. Why? This way, you only need to call the function and supply the appropriate lists to create your dictionaries! Again, the lists feature_names and row_vals are preloaded and these contain the header names of the dataset and actual values of a row from the dataset, respectively.</p>"
   ]
  },
  {
   "cell_type": "code",
   "execution_count": 5,
   "metadata": {},
   "outputs": [
    {
     "data": {
      "text/plain": [
       "'print(rs_fxn)'"
      ]
     },
     "execution_count": 5,
     "metadata": {},
     "output_type": "execute_result"
    }
   ],
   "source": [
    "# Define lists2dict()\n",
    "def lists2dict(list1, list2):\n",
    "    \"\"\"Return a dictionary where list1 provides\n",
    "    the keys and list2 provides the values.\"\"\"\n",
    "\n",
    "    # Zip lists: zipped_lists\n",
    "    zipped_lists = zip(list1, list2)\n",
    "\n",
    "    # Create a dictionary: rs_dict\n",
    "    rs_dict = dict(zipped_lists)\n",
    "\n",
    "    # Return the dictionary\n",
    "    return rs_dict\n",
    "\n",
    "# Call lists2dict: rs_fxn\n",
    "'''rs_fxn = lists2dict(feature_names,row_vals)'''\n",
    "# Print rs_fxn\n",
    "'''print(rs_fxn)'''"
   ]
  },
  {
   "cell_type": "markdown",
   "metadata": {},
   "source": [
    "<h1>Processing data in chunks (1)</h1>\n",
    "<p>Sometimes, data sources can be so large in size that storing the entire dataset in memory becomes too resource-intensive. In this exercise, you will process the first 1000 rows of a file line by line, to create a dictionary of the counts of how many times each country appears in a column in the dataset.\n",
    "\n",
    "The csv file 'world_dev_ind.csv' is in your current directory for your use. To begin, you need to open a connection to this file using what is known as a context manager. For example, the command with open('datacamp.csv') as datacamp binds the csv file 'datacamp.csv' as datacamp in the context manager. Here, the with statement is the context manager, and its purpose is to ensure that resources are efficiently allocated when opening a connection to a file.\n",
    "\n",
    "If you'd like to learn more about context managers, refer to the DataCamp course on Importing Data in Python.</p>"
   ]
  },
  {
   "cell_type": "code",
   "execution_count": 8,
   "metadata": {},
   "outputs": [
    {
     "name": "stdout",
     "output_type": "stream",
     "text": [
      "{'Kyrgyz Republic': 4, 'Myanmar': 4, 'Timor-Leste': 4, 'East Asia & Pacific (developing only)': 5, 'Suriname': 4, '\"Gambia': 4, 'Mexico': 4, 'Liberia': 4, 'Afghanistan': 4, 'Europe & Central Asia (all income levels)': 5, 'French Polynesia': 4, 'Albania': 4, 'South Asia': 5, 'Algeria': 4, 'Slovak Republic': 4, 'Puerto Rico': 4, 'Lebanon': 4, 'Oman': 4, 'Cuba': 4, 'Tuvalu': 4, 'United Kingdom': 4, 'Malaysia': 4, 'Belgium': 4, 'Least developed countries: UN classification': 5, 'Denmark': 4, 'Fiji': 4, 'Russian Federation': 4, 'Upper middle income': 5, 'Pakistan': 4, 'Ecuador': 4, 'Aruba': 4, 'Ghana': 4, 'Brunei Darussalam': 4, 'Other small states': 5, 'Uzbekistan': 4, 'Lower middle income': 5, 'Andorra': 4, 'Mongolia': 4, 'Turkmenistan': 4, 'Ireland': 4, 'Sri Lanka': 4, 'St. Lucia': 4, 'East Asia & Pacific (all income levels)': 5, 'St. Vincent and the Grenadines': 4, 'South Africa': 4, 'American Samoa': 4, 'European Union': 5, 'Azerbaijan': 4, 'Equatorial Guinea': 4, 'Trinidad and Tobago': 4, 'Tunisia': 4, '\"Macao SAR': 4, 'Low & middle income': 5, 'Small states': 5, 'Monaco': 4, 'Palau': 4, 'Italy': 4, 'Netherlands': 4, 'Moldova': 4, 'Virgin Islands (U.S.)': 4, 'Uganda': 4, 'Greece': 4, 'Dominican Republic': 4, 'Sub-Saharan Africa (all income levels)': 5, 'Tajikistan': 4, 'Romania': 4, '\"Iran': 4, 'Chile': 4, 'Guatemala': 4, 'Curacao': 4, 'Uruguay': 4, 'Malawi': 4, 'Madagascar': 4, 'Isle of Man': 4, 'Ukraine': 4, 'Saudi Arabia': 4, 'High income: nonOECD': 5, 'Georgia': 4, 'Caribbean small states': 5, 'Australia': 4, 'Hungary': 4, 'Guyana': 4, 'Bosnia and Herzegovina': 4, 'Seychelles': 4, 'Sierra Leone': 4, 'Kuwait': 4, 'Costa Rica': 4, 'Euro area': 5, 'Luxembourg': 4, '\"Hong Kong SAR': 4, 'France': 4, 'Burkina Faso': 4, 'Sweden': 4, 'Middle income': 5, 'Nicaragua': 4, 'Peru': 4, 'Fragile and conflict affected situations': 5, 'Honduras': 4, 'New Caledonia': 4, 'Dominica': 4, 'Brazil': 4, 'Grenada': 4, 'Turks and Caicos Islands': 4, 'Zimbabwe': 4, 'Tanzania': 4, 'Cambodia': 4, \"Cote d'Ivoire\": 4, 'Nepal': 4, 'Botswana': 4, '\"Yemen': 4, 'India': 4, 'El Salvador': 4, 'Bhutan': 4, 'United States': 4, 'Samoa': 4, 'Central African Republic': 4, 'Greenland': 4, 'Latin America & Caribbean (developing only)': 5, '\"Egypt': 4, 'Germany': 4, 'Faeroe Islands': 4, 'Singapore': 4, 'Argentina': 4, 'Nigeria': 4, 'Lesotho': 4, 'Thailand': 4, 'Mozambique': 4, 'Maldives': 4, 'Latin America & Caribbean (all income levels)': 5, 'Cabo Verde': 4, 'Bulgaria': 4, 'Japan': 4, 'Sub-Saharan Africa (developing only)': 5, 'Philippines': 4, 'Bolivia': 4, 'North America': 5, 'Heavily indebted poor countries (HIPC)': 5, 'Slovenia': 4, 'Bermuda': 4, 'Zambia': 4, 'Central Europe and the Baltics': 5, 'High income: OECD': 5, 'Cameroon': 4, 'Northern Mariana Islands': 4, '\"Macedonia': 4, 'Jordan': 4, 'Togo': 4, 'Austria': 4, 'Norway': 4, '\"Korea': 8, 'Gabon': 4, 'Panama': 4, 'Montenegro': 4, 'Belize': 4, 'Mauritania': 4, 'Vietnam': 4, 'Antigua and Barbuda': 4, 'Somalia': 4, 'World': 4, 'Canada': 4, 'Comoros': 4, 'Channel Islands': 4, 'Spain': 4, 'Finland': 4, 'Pacific island small states': 5, 'Belarus': 4, 'Mauritius': 4, 'South Sudan': 4, 'Solomon Islands': 4, 'High income': 5, 'Haiti': 4, 'New Zealand': 4, 'Eritrea': 4, 'Middle East & North Africa (developing only)': 5, 'Barbados': 4, 'Estonia': 4, 'Marshall Islands': 4, 'Czech Republic': 4, 'Israel': 4, '\"Micronesia': 4, 'Guinea': 4, 'Lao PDR': 4, 'Cayman Islands': 4, 'Liechtenstein': 4, 'Turkey': 4, 'Malta': 4, 'Angola': 4, 'San Marino': 4, 'Chad': 4, 'Papua New Guinea': 4, 'Rwanda': 4, 'Qatar': 4, 'Ethiopia': 4, 'Latvia': 4, 'China': 4, 'Sudan': 4, 'Senegal': 4, 'Paraguay': 4, 'Mali': 4, 'Kenya': 4, 'Benin': 4, 'Vanuatu': 4, 'Iraq': 4, 'Syrian Arab Republic': 4, 'OECD members': 5, 'Tonga': 4, 'Lithuania': 4, 'Armenia': 4, 'Kiribati': 4, '\"Bahamas': 4, 'Guinea-Bissau': 4, 'Low income': 5, 'Europe & Central Asia (developing only)': 5, 'Iceland': 4, 'Libya': 4, 'St. Kitts and Nevis': 4, 'Bangladesh': 4, 'Guam': 4, 'United Arab Emirates': 4, 'Kazakhstan': 4, 'Bahrain': 4, 'Portugal': 4, 'Niger': 4, 'Middle East & North Africa (all income levels)': 5, '\"Venezuela': 4, 'Colombia': 4, 'Sao Tome and Principe': 4, 'Croatia': 4, 'Burundi': 4, 'Jamaica': 4, 'Indonesia': 4, 'Morocco': 4, 'Swaziland': 4, 'Arab World': 5, 'Namibia': 4, 'Poland': 4, 'Djibouti': 4, 'Cyprus': 4, '\"Congo': 8, 'Switzerland': 4}\n"
     ]
    }
   ],
   "source": [
    "# Open a connection to the file\n",
    "with open('/home/aman-py/Desktop/Datacamp/Data Science TB/Part 2/world_ind_pop_data.csv') as file:\n",
    "\n",
    "    # Skip the column names\n",
    "    file.readline()\n",
    "\n",
    "    # Initialize an empty dictionary: counts_dict\n",
    "    counts_dict = {}\n",
    "\n",
    "    # Process only the first 1000 rows\n",
    "    for j in range(1000):\n",
    "\n",
    "        # Split the current line into a list: line\n",
    "        line = file.readline().split(',')\n",
    "\n",
    "        # Get the value for the first column: first_col\n",
    "        first_col = line[0]\n",
    "\n",
    "        # If the column value is in the dict, increment its value\n",
    "        if first_col in counts_dict.keys():\n",
    "            counts_dict[first_col] += 1\n",
    "\n",
    "        # Else, add to the dict and set value to 1\n",
    "        else:\n",
    "            counts_dict[first_col] = 1\n",
    "\n",
    "# Print the resulting dictionary\n",
    "print(counts_dict)\n"
   ]
  },
  {
   "cell_type": "markdown",
   "metadata": {},
   "source": [
    "<h1>Writing a generator to load data in chunks (2)</h1>\n",
    "<p>In the previous exercise, you processed a file line by line for a given number of lines. What if, however, you want to do this for the entire file?\n",
    "\n",
    "In this case, it would be useful to use generators. Generators allow users to lazily evaluate data. This concept of lazy evaluation is useful when you have to deal with very large datasets because it lets you generate values in an efficient manner by yielding only chunks of data at a time instead of the whole thing at once.\n",
    "\n",
    "In this exercise, you will define a generator function read_large_file() that produces a generator object which yields a single line from a file each time next() is called on it. The csv file 'world_dev_ind.csv' is in your current directory for your use.\n",
    "\n",
    "Note that when you open a connection to a file, the resulting file object is already a generator! So out in the wild, you won't have to explicitly create generator objects in cases such as this. However, for pedagogical reasons, we are having you practice how to do this here with the read_large_file() function. Go for it!</p>"
   ]
  },
  {
   "cell_type": "code",
   "execution_count": 10,
   "metadata": {},
   "outputs": [
    {
     "name": "stdout",
     "output_type": "stream",
     "text": [
      "CountryName,CountryCode,Year,Total Population,Urban population (% of total)\n",
      "\n",
      "Arab World,ARB,1960,92495902.0,31.285384211605397\n",
      "\n",
      "Caribbean small states,CSS,1960,4190810.0,31.5974898513652\n",
      "\n"
     ]
    }
   ],
   "source": [
    "# Define read_large_file()\n",
    "def read_large_file(file_object):\n",
    "    \"\"\"A generator function to read a large file lazily.\"\"\"\n",
    "\n",
    "    # Loop indefinitely until the end of the file\n",
    "    while True:\n",
    "\n",
    "        # Read a line from the file: data\n",
    "        data = file_object.readline()\n",
    "\n",
    "        # Break if this is the end of the file\n",
    "        if not data:\n",
    "            break\n",
    "\n",
    "        # Yield the line of data\n",
    "        yield data\n",
    "\n",
    "# Open a connection to the file\n",
    "with open('/home/aman-py/Desktop/Datacamp/Data Science TB/Part 2/world_ind_pop_data.csv') as file:\n",
    "\n",
    "    # Create a generator object for the file: gen_file\n",
    "    gen_file = read_large_file(file)\n",
    "\n",
    "    # Print the first three lines of the file\n",
    "    print(next(gen_file))\n",
    "    print(next(gen_file))\n",
    "    print(next(gen_file))\n"
   ]
  },
  {
   "cell_type": "markdown",
   "metadata": {},
   "source": [
    "<h1>Writing a generator to load data in chunks (3)</h1>\n",
    "<p>Great! You've just created a generator function that you can use to help you process large files.\n",
    "\n",
    "Now let's use your generator function to process the World Bank dataset like you did previously. You will process the file line by line, to create a dictionary of the counts of how many times each country appears in a column in the dataset. For this exercise, however, you won't process just 1000 rows of data, you'll process the entire dataset!\n",
    "\n",
    "The generator function read_large_file() and the csv file 'world_dev_ind.csv' are preloaded and ready for your use. Go for it!</p>"
   ]
  },
  {
   "cell_type": "code",
   "execution_count": 11,
   "metadata": {},
   "outputs": [
    {
     "name": "stdout",
     "output_type": "stream",
     "text": [
      "{'Kyrgyz Republic': 55, 'Myanmar': 55, 'Timor-Leste': 55, 'East Asia & Pacific (developing only)': 55, 'Suriname': 55, '\"Gambia': 55, 'Serbia': 25, 'Mexico': 55, 'Liberia': 55, 'Afghanistan': 55, 'Europe & Central Asia (all income levels)': 55, 'French Polynesia': 55, 'Albania': 55, 'South Asia': 55, 'Algeria': 55, 'Slovak Republic': 55, 'Puerto Rico': 55, 'Lebanon': 55, 'Oman': 55, 'Cuba': 55, 'Tuvalu': 55, 'United Kingdom': 55, 'Malaysia': 55, 'Belgium': 55, 'Least developed countries: UN classification': 55, 'Denmark': 55, 'Fiji': 55, 'Russian Federation': 55, 'Upper middle income': 55, 'Pakistan': 55, 'Ecuador': 55, 'Aruba': 55, 'Ghana': 55, 'Brunei Darussalam': 55, 'Other small states': 55, 'Uzbekistan': 55, 'Lower middle income': 55, 'Andorra': 55, 'Mongolia': 55, 'Turkmenistan': 55, 'Ireland': 55, 'Sri Lanka': 55, 'St. Lucia': 55, 'East Asia & Pacific (all income levels)': 55, 'St. Vincent and the Grenadines': 55, 'South Africa': 55, 'American Samoa': 55, 'European Union': 55, 'Azerbaijan': 55, 'Equatorial Guinea': 55, 'Trinidad and Tobago': 55, 'Tunisia': 55, '\"Macao SAR': 55, 'Low & middle income': 55, 'Small states': 55, 'Monaco': 55, 'Palau': 55, 'Italy': 55, 'Netherlands': 55, 'Moldova': 55, 'Virgin Islands (U.S.)': 55, 'Uganda': 55, 'Greece': 55, 'Dominican Republic': 55, 'Sub-Saharan Africa (all income levels)': 55, 'Tajikistan': 55, 'Romania': 55, '\"Iran': 55, 'Chile': 55, 'Guatemala': 55, 'Curacao': 55, 'Uruguay': 55, 'Malawi': 55, 'Madagascar': 55, 'Isle of Man': 55, 'Sint Maarten (Dutch part)': 17, 'Ukraine': 55, 'Saudi Arabia': 55, 'High income: nonOECD': 55, 'Georgia': 55, 'Caribbean small states': 55, 'Australia': 55, 'Hungary': 55, 'Guyana': 55, 'Bosnia and Herzegovina': 55, 'Seychelles': 55, 'Sierra Leone': 55, 'Kuwait': 52, 'Costa Rica': 55, 'Euro area': 55, 'Luxembourg': 55, '\"Hong Kong SAR': 55, 'France': 55, 'Burkina Faso': 55, 'Sweden': 55, 'Middle income': 55, 'Nicaragua': 55, 'Peru': 55, 'Fragile and conflict affected situations': 55, 'Honduras': 55, 'New Caledonia': 55, 'Dominica': 55, 'Brazil': 55, 'Grenada': 55, 'Turks and Caicos Islands': 55, 'Zimbabwe': 55, 'Tanzania': 55, 'Cambodia': 55, \"Cote d'Ivoire\": 55, 'Nepal': 55, 'Botswana': 55, '\"Yemen': 55, 'India': 55, 'El Salvador': 55, 'Bhutan': 55, 'United States': 55, 'Samoa': 55, 'Central African Republic': 55, 'Greenland': 55, 'West Bank and Gaza': 25, 'Latin America & Caribbean (developing only)': 55, '\"Egypt': 55, 'Germany': 55, 'Faeroe Islands': 55, 'Singapore': 55, 'Argentina': 55, 'CountryName': 1, 'Nigeria': 55, 'Lesotho': 55, 'Thailand': 55, 'Mozambique': 55, 'Maldives': 55, 'Latin America & Caribbean (all income levels)': 55, 'Cabo Verde': 55, 'Bulgaria': 55, 'Japan': 55, 'Sub-Saharan Africa (developing only)': 55, 'Philippines': 55, 'Bolivia': 55, 'North America': 55, 'Heavily indebted poor countries (HIPC)': 55, 'Slovenia': 55, 'Bermuda': 55, 'Zambia': 55, 'Central Europe and the Baltics': 55, 'High income: OECD': 55, 'Cameroon': 55, 'Northern Mariana Islands': 55, '\"Macedonia': 55, 'Jordan': 55, 'Togo': 55, 'Austria': 55, 'Norway': 55, '\"Korea': 110, 'Gabon': 55, 'Panama': 55, 'Montenegro': 55, 'Belize': 55, 'Mauritania': 55, 'Vietnam': 55, 'Antigua and Barbuda': 55, 'Somalia': 55, 'World': 55, 'Canada': 55, 'Comoros': 55, 'Channel Islands': 55, 'Spain': 55, 'Finland': 55, 'Pacific island small states': 55, 'Belarus': 55, 'Mauritius': 55, 'South Sudan': 55, 'Solomon Islands': 55, 'High income': 55, 'Haiti': 55, 'New Zealand': 55, 'Eritrea': 55, 'Middle East & North Africa (developing only)': 55, 'Barbados': 55, 'Estonia': 55, 'Marshall Islands': 55, 'Czech Republic': 55, 'Israel': 55, '\"Micronesia': 55, 'Guinea': 55, 'Lao PDR': 55, 'Cayman Islands': 55, 'Liechtenstein': 55, 'Turkey': 55, 'Malta': 55, 'Angola': 55, 'San Marino': 55, 'Chad': 55, 'Papua New Guinea': 55, 'Rwanda': 55, 'Qatar': 55, 'Ethiopia': 55, 'Latvia': 55, 'China': 55, 'Sudan': 55, 'Senegal': 55, 'Paraguay': 55, 'Mali': 55, 'Kenya': 55, 'Benin': 55, 'Vanuatu': 55, 'Iraq': 55, 'Syrian Arab Republic': 55, 'OECD members': 55, 'Tonga': 55, 'Lithuania': 55, 'Armenia': 55, 'Kiribati': 55, '\"Bahamas': 55, 'Guinea-Bissau': 55, 'Low income': 55, 'Europe & Central Asia (developing only)': 55, 'Iceland': 55, 'Libya': 55, 'St. Kitts and Nevis': 55, 'Bangladesh': 55, 'Guam': 55, 'United Arab Emirates': 55, 'Kazakhstan': 55, 'Bahrain': 55, 'Portugal': 55, 'Niger': 55, 'Middle East & North Africa (all income levels)': 55, '\"Venezuela': 55, 'Colombia': 55, 'Sao Tome and Principe': 55, 'Croatia': 55, 'Burundi': 55, 'Jamaica': 55, 'Indonesia': 55, 'Morocco': 55, 'Swaziland': 55, 'Arab World': 55, 'Namibia': 55, 'Poland': 55, 'Djibouti': 55, 'Cyprus': 55, '\"Congo': 110, 'Switzerland': 55}\n"
     ]
    }
   ],
   "source": [
    "# Initialize an empty dictionary: counts_dict\n",
    "counts_dict = {}\n",
    "\n",
    "# Open a connection to the file\n",
    "with open('/home/aman-py/Desktop/Datacamp/Data Science TB/Part 2/world_ind_pop_data.csv') as file:\n",
    "\n",
    "    # Iterate over the generator from read_large_file()\n",
    "    for line in read_large_file(file):\n",
    "\n",
    "        row = line.split(',')\n",
    "        first_col = row[0]\n",
    "\n",
    "        if first_col in counts_dict.keys():\n",
    "            counts_dict[first_col] += 1\n",
    "        else:\n",
    "            counts_dict[first_col] = 1\n",
    "\n",
    "# Print            \n",
    "print(counts_dict)\n"
   ]
  },
  {
   "cell_type": "markdown",
   "metadata": {},
   "source": [
    "<h1>Writing an iterator to load data in chunks (1)</h1>\n",
    "<p>Another way to read data too large to store in memory in chunks is to read the file in as DataFrames of a certain length, say, 100. For example, with the pandas package (imported as pd), you can do pd.read_csv(filename, chunksize=100). This creates an iterable reader object, which means that you can use next() on it.\n",
    "\n",
    "In this exercise, you will read a file in small DataFrame chunks with read_csv(). You're going to use the World Bank Indicators data 'ind_pop.csv', available in your current directory, to look at the urban population indicator for numerous countries and years.</p>"
   ]
  },
  {
   "cell_type": "code",
   "execution_count": 13,
   "metadata": {},
   "outputs": [
    {
     "name": "stdout",
     "output_type": "stream",
     "text": [
      "                                 CountryName CountryCode  Year  \\\n",
      "0                                 Arab World         ARB  1960   \n",
      "1                     Caribbean small states         CSS  1960   \n",
      "2             Central Europe and the Baltics         CEB  1960   \n",
      "3    East Asia & Pacific (all income levels)         EAS  1960   \n",
      "4      East Asia & Pacific (developing only)         EAP  1960   \n",
      "5                                  Euro area         EMU  1960   \n",
      "6  Europe & Central Asia (all income levels)         ECS  1960   \n",
      "7    Europe & Central Asia (developing only)         ECA  1960   \n",
      "8                             European Union         EUU  1960   \n",
      "9   Fragile and conflict affected situations         FCS  1960   \n",
      "\n",
      "   Total Population  Urban population (% of total)  \n",
      "0      9.249590e+07                      31.285384  \n",
      "1      4.190810e+06                      31.597490  \n",
      "2      9.140158e+07                      44.507921  \n",
      "3      1.042475e+09                      22.471132  \n",
      "4      8.964930e+08                      16.917679  \n",
      "5      2.653965e+08                      62.096947  \n",
      "6      6.674890e+08                      55.378977  \n",
      "7      1.553174e+08                      38.066129  \n",
      "8      4.094985e+08                      61.212898  \n",
      "9      1.203546e+08                      17.891972  \n",
      "                                      CountryName CountryCode  Year  \\\n",
      "10         Heavily indebted poor countries (HIPC)         HPC  1960   \n",
      "11                                    High income         HIC  1960   \n",
      "12                           High income: nonOECD         NOC  1960   \n",
      "13                              High income: OECD         OEC  1960   \n",
      "14  Latin America & Caribbean (all income levels)         LCN  1960   \n",
      "15    Latin America & Caribbean (developing only)         LAC  1960   \n",
      "16   Least developed countries: UN classification         LDC  1960   \n",
      "17                            Low & middle income         LMY  1960   \n",
      "18                                     Low income         LIC  1960   \n",
      "19                            Lower middle income         LMC  1960   \n",
      "\n",
      "    Total Population  Urban population (% of total)  \n",
      "10      1.624912e+08                      12.236046  \n",
      "11      9.075975e+08                      62.680332  \n",
      "12      1.866767e+08                      56.107863  \n",
      "13      7.209208e+08                      64.285435  \n",
      "14      2.205642e+08                      49.284688  \n",
      "15      1.776822e+08                      44.863308  \n",
      "16      2.410728e+08                       9.616261  \n",
      "17      2.127373e+09                      21.272894  \n",
      "18      1.571884e+08                      11.498396  \n",
      "19      9.429116e+08                      19.810513  \n"
     ]
    }
   ],
   "source": [
    "# Import the pandas package\n",
    "import pandas as pd\n",
    "\n",
    "# Initialize reader object: df_reader\n",
    "df_reader = pd.read_csv('/home/aman-py/Desktop/Datacamp/Data Science TB/Part 2/world_ind_pop_data.csv', chunksize=10)\n",
    "\n",
    "# Print two chunks\n",
    "print(next(df_reader))\n",
    "print(next(df_reader))\n"
   ]
  },
  {
   "cell_type": "markdown",
   "metadata": {},
   "source": [
    "<h1>Writing an iterator to load data in chunks (2)</h1>\n",
    "<p>In the previous exercise, you used read_csv() to read in DataFrame chunks from a large dataset. In this exercise, you will read in a file using a bigger DataFrame chunk size and then process the data from the first chunk.\n",
    "\n",
    "To process the data, you will create another DataFrame composed of only the rows from a specific country. You will then zip together two of the columns from the new DataFrame, 'Total Population' and 'Urban population (% of total)'. Finally, you will create a list of tuples from the zip object, where each tuple is composed of a value from each of the two columns mentioned.\n",
    "\n",
    "You're going to use the data from 'ind_pop_data.csv', available in your current directory. Pandas has been imported as pd</p>"
   ]
  },
  {
   "cell_type": "code",
   "execution_count": 22,
   "metadata": {},
   "outputs": [
    {
     "name": "stdout",
     "output_type": "stream",
     "text": [
      "                               CountryName CountryCode  Year  \\\n",
      "0                               Arab World         ARB  1960   \n",
      "1                   Caribbean small states         CSS  1960   \n",
      "2           Central Europe and the Baltics         CEB  1960   \n",
      "3  East Asia & Pacific (all income levels)         EAS  1960   \n",
      "4    East Asia & Pacific (developing only)         EAP  1960   \n",
      "\n",
      "   Total Population  Urban population (% of total)  \n",
      "0      9.249590e+07                      31.285384  \n",
      "1      4.190810e+06                      31.597490  \n",
      "2      9.140158e+07                      44.507921  \n",
      "3      1.042475e+09                      22.471132  \n",
      "4      8.964930e+08                      16.917679  \n",
      "[(91401583.0, 44.5079211390026), (92237118.0, 45.206665319194), (93014890.0, 45.866564696018), (93845749.0, 46.5340927663649), (94722599.0, 47.2087429803526)]\n"
     ]
    }
   ],
   "source": [
    "# Initialize reader object: urb_pop_reader\n",
    "urb_pop_reader = pd.read_csv('world_ind_pop_data.csv' , chunksize=1000)\n",
    "\n",
    "# Get the first DataFrame chunk: df_urb_pop\n",
    "df_urb_pop = next(urb_pop_reader)\n",
    "\n",
    "# Check out the head of the DataFrame\n",
    "print(df_urb_pop.head())\n",
    "\n",
    "# Check out specific country: df_pop_ceb\n",
    "df_pop_ceb = df_urb_pop[df_urb_pop['CountryCode']=='CEB']\n",
    "\n",
    "# Zip DataFrame columns of interest: pops\n",
    "pops = zip(df_pop_ceb['Total Population'], df_pop_ceb['Urban population (% of total)'])\n",
    "\n",
    "# Turn zip object into list: pops_list\n",
    "pops_list = list(pops)\n",
    "\n",
    "# Print pops_list\n",
    "print(pops_list)"
   ]
  },
  {
   "cell_type": "markdown",
   "metadata": {},
   "source": [
    "<h1>Writing an iterator to load data in chunks (3)</h1>\n",
    "<p>You're getting used to reading and processing data in chunks by now. Let's push your skills a little further by adding a column to a DataFrame.\n",
    "\n",
    "In this exercise, you will be using a list comprehension to create the values for a new column 'Total Urban Population' from the list of tuples that you generated earlier. Recall from the previous exercise that the first and second elements of each tuple consist of, respectively, values from the columns 'Total Population' and 'Urban population (% of total)'. The values in this new column 'Total Urban Population', therefore, are the product of the first and second element in each tuple. Furthermore, because the 2nd element is a percentage, you need to divide the entire result by 100, or alternatively, multiply it by 0.01.</p>"
   ]
  },
  {
   "cell_type": "code",
   "execution_count": 18,
   "metadata": {},
   "outputs": [
    {
     "name": "stderr",
     "output_type": "stream",
     "text": [
      "/usr/local/lib/python3.5/dist-packages/ipykernel_launcher.py:19: SettingWithCopyWarning: \n",
      "A value is trying to be set on a copy of a slice from a DataFrame.\n",
      "Try using .loc[row_indexer,col_indexer] = value instead\n",
      "\n",
      "See the caveats in the documentation: http://pandas.pydata.org/pandas-docs/stable/indexing.html#indexing-view-versus-copy\n"
     ]
    },
    {
     "data": {
      "image/png": "[encoded data removed]",
      "text/plain": [
       "<Figure size 432x288 with 1 Axes>"
      ]
     },
     "metadata": {},
     "output_type": "display_data"
    }
   ],
   "source": [
    "import matplotlib.pyplot as plt\n",
    "# Initialize reader object: urb_pop_reader\n",
    "urb_pop_reader = pd.read_csv('/home/aman-py/Desktop/Datacamp/Data Science TB/Part 2/world_ind_pop_data.csv', chunksize=1000)\n",
    "\n",
    "# Get the first DataFrame chunk: df_urb_pop\n",
    "df_urb_pop = next(urb_pop_reader)\n",
    "\n",
    "# Check out specific country: df_pop_ceb\n",
    "df_pop_ceb = df_urb_pop[df_urb_pop['CountryCode'] == 'CEB']\n",
    "\n",
    "# Zip DataFrame columns of interest: pops\n",
    "pops = zip(df_pop_ceb['Total Population'], \n",
    "            df_pop_ceb['Urban population (% of total)'])\n",
    "\n",
    "# Turn zip object into list: pops_list\n",
    "pops_list = list(pops)\n",
    "\n",
    "# Use list comprehension to create new DataFrame column 'Total Urban Population'\n",
    "df_pop_ceb['Total Urban Population'] = [int(tup[0]*tup[1]*.01) for tup in pops_list]\n",
    "\n",
    "# Plot urban population data\n",
    "df_pop_ceb.plot(kind='scatter', x='Year', y='Total Urban Population')\n",
    "plt.show()"
   ]
  },
  {
   "cell_type": "markdown",
   "metadata": {},
   "source": [
    "<h1>Writing an iterator to load data in chunks (4)</h1>\n",
    "<p>In the previous exercises, you've only processed the data from the first DataFrame chunk. This time, you will aggregate the results over all the DataFrame chunks in the dataset. This basically means you will be processing the entire dataset now. This is neat because you're going to be able to process the entire large dataset by just working on smaller pieces of it!\n",
    "\n",
    "You're going to use the data from 'ind_pop_data.csv', available in your current directory. The packages pandas and matplotlib.pyplot have been imported as pd and plt respectively for your use.</p>"
   ]
  },
  {
   "cell_type": "code",
   "execution_count": 20,
   "metadata": {},
   "outputs": [
    {
     "name": "stderr",
     "output_type": "stream",
     "text": [
      "/usr/local/lib/python3.5/dist-packages/ipykernel_launcher.py:21: SettingWithCopyWarning: \n",
      "A value is trying to be set on a copy of a slice from a DataFrame.\n",
      "Try using .loc[row_indexer,col_indexer] = value instead\n",
      "\n",
      "See the caveats in the documentation: http://pandas.pydata.org/pandas-docs/stable/indexing.html#indexing-view-versus-copy\n"
     ]
    },
    {
     "data": {
      "image/png": "[encoded data removed]",
      "text/plain": [
       "<Figure size 432x288 with 1 Axes>"
      ]
     },
     "metadata": {},
     "output_type": "display_data"
    }
   ],
   "source": [
    "# Initialize reader object: urb_pop_reader\n",
    "urb_pop_reader = pd.read_csv('/home/aman-py/Desktop/Datacamp/Data Science TB/Part 2/world_ind_pop_data.csv', chunksize=1000)\n",
    "\n",
    "# Initialize empty DataFrame: data\n",
    "data = pd.DataFrame()\n",
    "\n",
    "# Iterate over each DataFrame chunk\n",
    "for df_urb_pop in urb_pop_reader:\n",
    "\n",
    "    # Check out specific country: df_pop_ceb\n",
    "    df_pop_ceb = df_urb_pop[df_urb_pop['CountryCode'] == 'CEB']\n",
    "\n",
    "    # Zip DataFrame columns of interest: pops\n",
    "    pops = zip(df_pop_ceb['Total Population'],\n",
    "                df_pop_ceb['Urban population (% of total)'])\n",
    "\n",
    "    # Turn zip object into list: pops_list\n",
    "    pops_list = list(pops)\n",
    "\n",
    "    # Use list comprehension to create new DataFrame column 'Total Urban Population'\n",
    "    df_pop_ceb['Total Urban Population'] = [int(tup[0] * tup[1]) for tup in pops_list]\n",
    "    \n",
    "    # Append DataFrame chunk to data: data\n",
    "    data = data.append(df_pop_ceb)\n",
    "\n",
    "# Plot urban population data\n",
    "data.plot(kind='scatter', x='Year', y='Total Urban Population')\n",
    "plt.show()"
   ]
  },
  {
   "cell_type": "markdown",
   "metadata": {},
   "source": [
    "<h1>Writing an iterator to load data in chunks (5)</h1>\n",
    "<p>This is the last leg. You've learned a lot about processing a large dataset in chunks. In this last exercise, you will put all the code for processing the data into a single function so that you can reuse the code without having to rewrite the same things all over again.\n",
    "\n",
    "You're going to define the function plot_pop() which takes two arguments: the filename of the file to be processed, and the country code of the rows you want to process in the dataset.\n",
    "\n",
    "Because all of the previous code you've written in the previous exercises will be housed in plot_pop(), calling the function already does the following:\n",
    "\n",
    "    Loading of the file chunk by chunk,\n",
    "    Creating the new column of urban population values, and\n",
    "    Plotting the urban population data.\n",
    "</p>"
   ]
  },
  {
   "cell_type": "code",
   "execution_count": 21,
   "metadata": {},
   "outputs": [
    {
     "name": "stderr",
     "output_type": "stream",
     "text": [
      "/usr/local/lib/python3.5/dist-packages/ipykernel_launcher.py:23: SettingWithCopyWarning: \n",
      "A value is trying to be set on a copy of a slice from a DataFrame.\n",
      "Try using .loc[row_indexer,col_indexer] = value instead\n",
      "\n",
      "See the caveats in the documentation: http://pandas.pydata.org/pandas-docs/stable/indexing.html#indexing-view-versus-copy\n"
     ]
    },
    {
     "data": {
      "image/png": "[encoded data removed]",
      "text/plain": [
       "<Figure size 432x288 with 1 Axes>"
      ]
     },
     "metadata": {},
     "output_type": "display_data"
    },
    {
     "data": {
      "image/png": "[encoded data removed]",
      "text/plain": [
       "<Figure size 432x288 with 1 Axes>"
      ]
     },
     "metadata": {},
     "output_type": "display_data"
    }
   ],
   "source": [
    "# Define plot_pop()\n",
    "def plot_pop(filename, country_code):\n",
    "\n",
    "    # Initialize reader object: urb_pop_reader\n",
    "    urb_pop_reader = pd.read_csv(filename, chunksize=1000)\n",
    "\n",
    "    # Initialize empty DataFrame: data\n",
    "    data = pd.DataFrame()\n",
    "    \n",
    "    # Iterate over each DataFrame chunk\n",
    "    for df_urb_pop in urb_pop_reader:\n",
    "        # Check out specific country: df_pop_ceb\n",
    "        df_pop_ceb = df_urb_pop[df_urb_pop['CountryCode'] == country_code]\n",
    "\n",
    "        # Zip DataFrame columns of interest: pops\n",
    "        pops = zip(df_pop_ceb['Total Population'],\n",
    "                    df_pop_ceb['Urban population (% of total)'])\n",
    "\n",
    "        # Turn zip object into list: pops_list\n",
    "        pops_list = list(pops)\n",
    "\n",
    "        # Use list comprehension to create new DataFrame column 'Total Urban Population'\n",
    "        df_pop_ceb['Total Urban Population'] = [int(tup[0] * tup[1]) for tup in pops_list]\n",
    "    \n",
    "        # Append DataFrame chunk to data: data\n",
    "        data = data.append(df_pop_ceb)\n",
    "\n",
    "    # Plot urban population data\n",
    "    data.plot(kind='scatter', x='Year', y='Total Urban Population')\n",
    "    plt.show()\n",
    "\n",
    "# Set the filename: fn\n",
    "fn = 'world_ind_pop_data.csv'\n",
    "\n",
    "# Call plot_pop for country code 'CEB'\n",
    "plot_pop(fn, 'CEB')\n",
    "\n",
    "# Call plot_pop for country code 'ARB'\n",
    "plot_pop(fn, 'ARB')\n"
   ]
  },
  {
   "cell_type": "code",
   "execution_count": null,
   "metadata": {},
   "outputs": [],
   "source": []
  }
 ],
 "metadata": {
  "kernelspec": {
   "display_name": "Python 3",
   "language": "python",
   "name": "python3"
  },
  "language_info": {
   "codemirror_mode": {
    "name": "ipython",
    "version": 3
   },
   "file_extension": ".py",
   "mimetype": "text/x-python",
   "name": "python",
   "nbconvert_exporter": "python",
   "pygments_lexer": "ipython3",
   "version": "3.5.2"
  }
 },
 "nbformat": 4,
 "nbformat_minor": 2
}
